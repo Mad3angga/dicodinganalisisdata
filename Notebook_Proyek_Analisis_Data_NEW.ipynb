{
  "cells": [
    {
      "cell_type": "markdown",
      "metadata": {
        "id": "H9wADwK78DCz"
      },
      "source": [
        "# Proyek Analisis Data: [Bike Sharing Dataset]\n",
        "- **Nama:** [Made Angga Danan Jaya]\n",
        "- **Email:** [madeanggaa28@gmail.com]\n",
        "- **ID Dicoding:** [madeangga]"
      ]
    },
    {
      "cell_type": "markdown",
      "metadata": {
        "id": "eE0raob58DC0"
      },
      "source": [
        "## Menentukan Pertanyaan Bisnis"
      ]
    },
    {
      "cell_type": "markdown",
      "metadata": {
        "id": "GmQeQ5YF8DC0"
      },
      "source": [
        "- Bagaimana pola penggunaan sepeda berdasarkan jam dalam sehari?\n",
        "- Apakah cuaca memengaruhi jumlah peminjaman sepeda?\n",
        "- Bagaimana perbedaan jumlah penggunaan sepeda antara hari kerja dan hari libur?\n",
        "- Bagaimana pengaruh suhu terhadap jumlah peminjaman sepeda?\n",
        "- Bagaimana tren penggunaan sepeda sepanjang tahun?"
      ]
    },
    {
      "cell_type": "code",
      "execution_count": 3,
      "metadata": {
        "colab": {
          "base_uri": "https://localhost:8080/"
        },
        "id": "_lV_KD1TvMjB",
        "outputId": "b1616bc4-71f1-4a02-862e-621c93669f8f"
      },
      "outputs": [
        {
          "name": "stdout",
          "output_type": "stream",
          "text": [
            "Mounted at /content/drive\n",
            "/content/drive/MyDrive/Streamlit\n"
          ]
        }
      ],
      "source": [
        "# prompt: koneksikan dengan google drive\n",
        "\n",
        "from google.colab import drive\n",
        "drive.mount('/content/drive')\n",
        "%cd /content/drive/MyDrive/Streamlit"
      ]
    },
    {
      "cell_type": "markdown",
      "metadata": {
        "id": "H-z4QGlO8DC1"
      },
      "source": [
        "## Import Semua Packages/Library yang Digunakan"
      ]
    },
    {
      "cell_type": "code",
      "execution_count": 4,
      "metadata": {
        "id": "FVYwaObI8DC1"
      },
      "outputs": [],
      "source": [
        "import numpy as np\n",
        "import os\n",
        "import pandas as pd\n",
        "import seaborn as sns\n",
        "import matplotlib.pyplot as plt\n",
        "import urllib\n",
        "import matplotlib.image as mpimg\n",
        "from scipy import stats"
      ]
    },
    {
      "cell_type": "markdown",
      "metadata": {
        "id": "h_Sh51Xy8DC1"
      },
      "source": [
        "## Data Wrangling"
      ]
    },
    {
      "cell_type": "markdown",
      "metadata": {
        "id": "sXU2GBYu8DC1"
      },
      "source": [
        "### Gathering Data"
      ]
    },
    {
      "cell_type": "code",
      "execution_count": 60,
      "metadata": {
        "id": "zjCBk1BI8DC1"
      },
      "outputs": [],
      "source": [
        "data_directory = \"dataset/\"\n",
        "dataframes = pd.read_csv(f\"{data_directory}hour.csv\")"
      ]
    },
    {
      "cell_type": "code",
      "execution_count": 61,
      "metadata": {
        "colab": {
          "base_uri": "https://localhost:8080/",
          "height": 206
        },
        "id": "FBOmAdVMV-Mv",
        "outputId": "5be2f71c-6992-449e-af14-e32340d7efd4"
      },
      "outputs": [
        {
          "data": {
            "application/vnd.google.colaboratory.intrinsic+json": {
              "summary": "{\n  \"name\": \"dataframes\",\n  \"rows\": 17379,\n  \"fields\": [\n    {\n      \"column\": \"instant\",\n      \"properties\": {\n        \"dtype\": \"number\",\n        \"std\": 5017,\n        \"min\": 1,\n        \"max\": 17379,\n        \"num_unique_values\": 17379,\n        \"samples\": [\n          12831,\n          8689,\n          7092\n        ],\n        \"semantic_type\": \"\",\n        \"description\": \"\"\n      }\n    },\n    {\n      \"column\": \"dteday\",\n      \"properties\": {\n        \"dtype\": \"object\",\n        \"num_unique_values\": 731,\n        \"samples\": [\n          \"2012-12-04\",\n          \"2011-02-03\",\n          \"2011-10-28\"\n        ],\n        \"semantic_type\": \"\",\n        \"description\": \"\"\n      }\n    },\n    {\n      \"column\": \"season\",\n      \"properties\": {\n        \"dtype\": \"number\",\n        \"std\": 1,\n        \"min\": 1,\n        \"max\": 4,\n        \"num_unique_values\": 4,\n        \"samples\": [\n          2,\n          4,\n          1\n        ],\n        \"semantic_type\": \"\",\n        \"description\": \"\"\n      }\n    },\n    {\n      \"column\": \"yr\",\n      \"properties\": {\n        \"dtype\": \"number\",\n        \"std\": 0,\n        \"min\": 0,\n        \"max\": 1,\n        \"num_unique_values\": 2,\n        \"samples\": [\n          1,\n          0\n        ],\n        \"semantic_type\": \"\",\n        \"description\": \"\"\n      }\n    },\n    {\n      \"column\": \"mnth\",\n      \"properties\": {\n        \"dtype\": \"number\",\n        \"std\": 3,\n        \"min\": 1,\n        \"max\": 12,\n        \"num_unique_values\": 12,\n        \"samples\": [\n          11,\n          10\n        ],\n        \"semantic_type\": \"\",\n        \"description\": \"\"\n      }\n    },\n    {\n      \"column\": \"hr\",\n      \"properties\": {\n        \"dtype\": \"number\",\n        \"std\": 6,\n        \"min\": 0,\n        \"max\": 23,\n        \"num_unique_values\": 24,\n        \"samples\": [\n          8,\n          16\n        ],\n        \"semantic_type\": \"\",\n        \"description\": \"\"\n      }\n    },\n    {\n      \"column\": \"holiday\",\n      \"properties\": {\n        \"dtype\": \"number\",\n        \"std\": 0,\n        \"min\": 0,\n        \"max\": 1,\n        \"num_unique_values\": 2,\n        \"samples\": [\n          1,\n          0\n        ],\n        \"semantic_type\": \"\",\n        \"description\": \"\"\n      }\n    },\n    {\n      \"column\": \"weekday\",\n      \"properties\": {\n        \"dtype\": \"number\",\n        \"std\": 2,\n        \"min\": 0,\n        \"max\": 6,\n        \"num_unique_values\": 7,\n        \"samples\": [\n          6,\n          0\n        ],\n        \"semantic_type\": \"\",\n        \"description\": \"\"\n      }\n    },\n    {\n      \"column\": \"workingday\",\n      \"properties\": {\n        \"dtype\": \"number\",\n        \"std\": 0,\n        \"min\": 0,\n        \"max\": 1,\n        \"num_unique_values\": 2,\n        \"samples\": [\n          1,\n          0\n        ],\n        \"semantic_type\": \"\",\n        \"description\": \"\"\n      }\n    },\n    {\n      \"column\": \"weathersit\",\n      \"properties\": {\n        \"dtype\": \"number\",\n        \"std\": 0,\n        \"min\": 1,\n        \"max\": 4,\n        \"num_unique_values\": 4,\n        \"samples\": [\n          2,\n          4\n        ],\n        \"semantic_type\": \"\",\n        \"description\": \"\"\n      }\n    },\n    {\n      \"column\": \"temp\",\n      \"properties\": {\n        \"dtype\": \"number\",\n        \"std\": 0.19255612124972407,\n        \"min\": 0.02,\n        \"max\": 1.0,\n        \"num_unique_values\": 50,\n        \"samples\": [\n          0.16,\n          0.82\n        ],\n        \"semantic_type\": \"\",\n        \"description\": \"\"\n      }\n    },\n    {\n      \"column\": \"atemp\",\n      \"properties\": {\n        \"dtype\": \"number\",\n        \"std\": 0.17185021563536587,\n        \"min\": 0.0,\n        \"max\": 1.0,\n        \"num_unique_values\": 65,\n        \"samples\": [\n          0.7879,\n          0.9242\n        ],\n        \"semantic_type\": \"\",\n        \"description\": \"\"\n      }\n    },\n    {\n      \"column\": \"hum\",\n      \"properties\": {\n        \"dtype\": \"number\",\n        \"std\": 0.1929298340629125,\n        \"min\": 0.0,\n        \"max\": 1.0,\n        \"num_unique_values\": 89,\n        \"samples\": [\n          0.29,\n          0.61\n        ],\n        \"semantic_type\": \"\",\n        \"description\": \"\"\n      }\n    },\n    {\n      \"column\": \"windspeed\",\n      \"properties\": {\n        \"dtype\": \"number\",\n        \"std\": 0.12234022857279413,\n        \"min\": 0.0,\n        \"max\": 0.8507,\n        \"num_unique_values\": 30,\n        \"samples\": [\n          0.8507,\n          0.4925\n        ],\n        \"semantic_type\": \"\",\n        \"description\": \"\"\n      }\n    },\n    {\n      \"column\": \"casual\",\n      \"properties\": {\n        \"dtype\": \"number\",\n        \"std\": 49,\n        \"min\": 0,\n        \"max\": 367,\n        \"num_unique_values\": 322,\n        \"samples\": [\n          201,\n          171\n        ],\n        \"semantic_type\": \"\",\n        \"description\": \"\"\n      }\n    },\n    {\n      \"column\": \"registered\",\n      \"properties\": {\n        \"dtype\": \"number\",\n        \"std\": 151,\n        \"min\": 0,\n        \"max\": 886,\n        \"num_unique_values\": 776,\n        \"samples\": [\n          342,\n          744\n        ],\n        \"semantic_type\": \"\",\n        \"description\": \"\"\n      }\n    },\n    {\n      \"column\": \"cnt\",\n      \"properties\": {\n        \"dtype\": \"number\",\n        \"std\": 181,\n        \"min\": 1,\n        \"max\": 977,\n        \"num_unique_values\": 869,\n        \"samples\": [\n          594,\n          46\n        ],\n        \"semantic_type\": \"\",\n        \"description\": \"\"\n      }\n    }\n  ]\n}",
              "type": "dataframe",
              "variable_name": "dataframes"
            },
            "text/html": [
              "\n",
              "  <div id=\"df-f143122b-b5cb-455c-9db8-58548d01671d\" class=\"colab-df-container\">\n",
              "    <div>\n",
              "<style scoped>\n",
              "    .dataframe tbody tr th:only-of-type {\n",
              "        vertical-align: middle;\n",
              "    }\n",
              "\n",
              "    .dataframe tbody tr th {\n",
              "        vertical-align: top;\n",
              "    }\n",
              "\n",
              "    .dataframe thead th {\n",
              "        text-align: right;\n",
              "    }\n",
              "</style>\n",
              "<table border=\"1\" class=\"dataframe\">\n",
              "  <thead>\n",
              "    <tr style=\"text-align: right;\">\n",
              "      <th></th>\n",
              "      <th>instant</th>\n",
              "      <th>dteday</th>\n",
              "      <th>season</th>\n",
              "      <th>yr</th>\n",
              "      <th>mnth</th>\n",
              "      <th>hr</th>\n",
              "      <th>holiday</th>\n",
              "      <th>weekday</th>\n",
              "      <th>workingday</th>\n",
              "      <th>weathersit</th>\n",
              "      <th>temp</th>\n",
              "      <th>atemp</th>\n",
              "      <th>hum</th>\n",
              "      <th>windspeed</th>\n",
              "      <th>casual</th>\n",
              "      <th>registered</th>\n",
              "      <th>cnt</th>\n",
              "    </tr>\n",
              "  </thead>\n",
              "  <tbody>\n",
              "    <tr>\n",
              "      <th>0</th>\n",
              "      <td>1</td>\n",
              "      <td>2011-01-01</td>\n",
              "      <td>1</td>\n",
              "      <td>0</td>\n",
              "      <td>1</td>\n",
              "      <td>0</td>\n",
              "      <td>0</td>\n",
              "      <td>6</td>\n",
              "      <td>0</td>\n",
              "      <td>1</td>\n",
              "      <td>0.24</td>\n",
              "      <td>0.2879</td>\n",
              "      <td>0.81</td>\n",
              "      <td>0.0</td>\n",
              "      <td>3</td>\n",
              "      <td>13</td>\n",
              "      <td>16</td>\n",
              "    </tr>\n",
              "    <tr>\n",
              "      <th>1</th>\n",
              "      <td>2</td>\n",
              "      <td>2011-01-01</td>\n",
              "      <td>1</td>\n",
              "      <td>0</td>\n",
              "      <td>1</td>\n",
              "      <td>1</td>\n",
              "      <td>0</td>\n",
              "      <td>6</td>\n",
              "      <td>0</td>\n",
              "      <td>1</td>\n",
              "      <td>0.22</td>\n",
              "      <td>0.2727</td>\n",
              "      <td>0.80</td>\n",
              "      <td>0.0</td>\n",
              "      <td>8</td>\n",
              "      <td>32</td>\n",
              "      <td>40</td>\n",
              "    </tr>\n",
              "    <tr>\n",
              "      <th>2</th>\n",
              "      <td>3</td>\n",
              "      <td>2011-01-01</td>\n",
              "      <td>1</td>\n",
              "      <td>0</td>\n",
              "      <td>1</td>\n",
              "      <td>2</td>\n",
              "      <td>0</td>\n",
              "      <td>6</td>\n",
              "      <td>0</td>\n",
              "      <td>1</td>\n",
              "      <td>0.22</td>\n",
              "      <td>0.2727</td>\n",
              "      <td>0.80</td>\n",
              "      <td>0.0</td>\n",
              "      <td>5</td>\n",
              "      <td>27</td>\n",
              "      <td>32</td>\n",
              "    </tr>\n",
              "    <tr>\n",
              "      <th>3</th>\n",
              "      <td>4</td>\n",
              "      <td>2011-01-01</td>\n",
              "      <td>1</td>\n",
              "      <td>0</td>\n",
              "      <td>1</td>\n",
              "      <td>3</td>\n",
              "      <td>0</td>\n",
              "      <td>6</td>\n",
              "      <td>0</td>\n",
              "      <td>1</td>\n",
              "      <td>0.24</td>\n",
              "      <td>0.2879</td>\n",
              "      <td>0.75</td>\n",
              "      <td>0.0</td>\n",
              "      <td>3</td>\n",
              "      <td>10</td>\n",
              "      <td>13</td>\n",
              "    </tr>\n",
              "    <tr>\n",
              "      <th>4</th>\n",
              "      <td>5</td>\n",
              "      <td>2011-01-01</td>\n",
              "      <td>1</td>\n",
              "      <td>0</td>\n",
              "      <td>1</td>\n",
              "      <td>4</td>\n",
              "      <td>0</td>\n",
              "      <td>6</td>\n",
              "      <td>0</td>\n",
              "      <td>1</td>\n",
              "      <td>0.24</td>\n",
              "      <td>0.2879</td>\n",
              "      <td>0.75</td>\n",
              "      <td>0.0</td>\n",
              "      <td>0</td>\n",
              "      <td>1</td>\n",
              "      <td>1</td>\n",
              "    </tr>\n",
              "  </tbody>\n",
              "</table>\n",
              "</div>\n",
              "    <div class=\"colab-df-buttons\">\n",
              "\n",
              "  <div class=\"colab-df-container\">\n",
              "    <button class=\"colab-df-convert\" onclick=\"convertToInteractive('df-f143122b-b5cb-455c-9db8-58548d01671d')\"\n",
              "            title=\"Convert this dataframe to an interactive table.\"\n",
              "            style=\"display:none;\">\n",
              "\n",
              "  <svg xmlns=\"http://www.w3.org/2000/svg\" height=\"24px\" viewBox=\"0 -960 960 960\">\n",
              "    <path d=\"M120-120v-720h720v720H120Zm60-500h600v-160H180v160Zm220 220h160v-160H400v160Zm0 220h160v-160H400v160ZM180-400h160v-160H180v160Zm440 0h160v-160H620v160ZM180-180h160v-160H180v160Zm440 0h160v-160H620v160Z\"/>\n",
              "  </svg>\n",
              "    </button>\n",
              "\n",
              "  <style>\n",
              "    .colab-df-container {\n",
              "      display:flex;\n",
              "      gap: 12px;\n",
              "    }\n",
              "\n",
              "    .colab-df-convert {\n",
              "      background-color: #E8F0FE;\n",
              "      border: none;\n",
              "      border-radius: 50%;\n",
              "      cursor: pointer;\n",
              "      display: none;\n",
              "      fill: #1967D2;\n",
              "      height: 32px;\n",
              "      padding: 0 0 0 0;\n",
              "      width: 32px;\n",
              "    }\n",
              "\n",
              "    .colab-df-convert:hover {\n",
              "      background-color: #E2EBFA;\n",
              "      box-shadow: 0px 1px 2px rgba(60, 64, 67, 0.3), 0px 1px 3px 1px rgba(60, 64, 67, 0.15);\n",
              "      fill: #174EA6;\n",
              "    }\n",
              "\n",
              "    .colab-df-buttons div {\n",
              "      margin-bottom: 4px;\n",
              "    }\n",
              "\n",
              "    [theme=dark] .colab-df-convert {\n",
              "      background-color: #3B4455;\n",
              "      fill: #D2E3FC;\n",
              "    }\n",
              "\n",
              "    [theme=dark] .colab-df-convert:hover {\n",
              "      background-color: #434B5C;\n",
              "      box-shadow: 0px 1px 3px 1px rgba(0, 0, 0, 0.15);\n",
              "      filter: drop-shadow(0px 1px 2px rgba(0, 0, 0, 0.3));\n",
              "      fill: #FFFFFF;\n",
              "    }\n",
              "  </style>\n",
              "\n",
              "    <script>\n",
              "      const buttonEl =\n",
              "        document.querySelector('#df-f143122b-b5cb-455c-9db8-58548d01671d button.colab-df-convert');\n",
              "      buttonEl.style.display =\n",
              "        google.colab.kernel.accessAllowed ? 'block' : 'none';\n",
              "\n",
              "      async function convertToInteractive(key) {\n",
              "        const element = document.querySelector('#df-f143122b-b5cb-455c-9db8-58548d01671d');\n",
              "        const dataTable =\n",
              "          await google.colab.kernel.invokeFunction('convertToInteractive',\n",
              "                                                    [key], {});\n",
              "        if (!dataTable) return;\n",
              "\n",
              "        const docLinkHtml = 'Like what you see? Visit the ' +\n",
              "          '<a target=\"_blank\" href=https://colab.research.google.com/notebooks/data_table.ipynb>data table notebook</a>'\n",
              "          + ' to learn more about interactive tables.';\n",
              "        element.innerHTML = '';\n",
              "        dataTable['output_type'] = 'display_data';\n",
              "        await google.colab.output.renderOutput(dataTable, element);\n",
              "        const docLink = document.createElement('div');\n",
              "        docLink.innerHTML = docLinkHtml;\n",
              "        element.appendChild(docLink);\n",
              "      }\n",
              "    </script>\n",
              "  </div>\n",
              "\n",
              "\n",
              "<div id=\"df-6be4b115-637e-428b-b5f2-6b8ffaf46439\">\n",
              "  <button class=\"colab-df-quickchart\" onclick=\"quickchart('df-6be4b115-637e-428b-b5f2-6b8ffaf46439')\"\n",
              "            title=\"Suggest charts\"\n",
              "            style=\"display:none;\">\n",
              "\n",
              "<svg xmlns=\"http://www.w3.org/2000/svg\" height=\"24px\"viewBox=\"0 0 24 24\"\n",
              "     width=\"24px\">\n",
              "    <g>\n",
              "        <path d=\"M19 3H5c-1.1 0-2 .9-2 2v14c0 1.1.9 2 2 2h14c1.1 0 2-.9 2-2V5c0-1.1-.9-2-2-2zM9 17H7v-7h2v7zm4 0h-2V7h2v10zm4 0h-2v-4h2v4z\"/>\n",
              "    </g>\n",
              "</svg>\n",
              "  </button>\n",
              "\n",
              "<style>\n",
              "  .colab-df-quickchart {\n",
              "      --bg-color: #E8F0FE;\n",
              "      --fill-color: #1967D2;\n",
              "      --hover-bg-color: #E2EBFA;\n",
              "      --hover-fill-color: #174EA6;\n",
              "      --disabled-fill-color: #AAA;\n",
              "      --disabled-bg-color: #DDD;\n",
              "  }\n",
              "\n",
              "  [theme=dark] .colab-df-quickchart {\n",
              "      --bg-color: #3B4455;\n",
              "      --fill-color: #D2E3FC;\n",
              "      --hover-bg-color: #434B5C;\n",
              "      --hover-fill-color: #FFFFFF;\n",
              "      --disabled-bg-color: #3B4455;\n",
              "      --disabled-fill-color: #666;\n",
              "  }\n",
              "\n",
              "  .colab-df-quickchart {\n",
              "    background-color: var(--bg-color);\n",
              "    border: none;\n",
              "    border-radius: 50%;\n",
              "    cursor: pointer;\n",
              "    display: none;\n",
              "    fill: var(--fill-color);\n",
              "    height: 32px;\n",
              "    padding: 0;\n",
              "    width: 32px;\n",
              "  }\n",
              "\n",
              "  .colab-df-quickchart:hover {\n",
              "    background-color: var(--hover-bg-color);\n",
              "    box-shadow: 0 1px 2px rgba(60, 64, 67, 0.3), 0 1px 3px 1px rgba(60, 64, 67, 0.15);\n",
              "    fill: var(--button-hover-fill-color);\n",
              "  }\n",
              "\n",
              "  .colab-df-quickchart-complete:disabled,\n",
              "  .colab-df-quickchart-complete:disabled:hover {\n",
              "    background-color: var(--disabled-bg-color);\n",
              "    fill: var(--disabled-fill-color);\n",
              "    box-shadow: none;\n",
              "  }\n",
              "\n",
              "  .colab-df-spinner {\n",
              "    border: 2px solid var(--fill-color);\n",
              "    border-color: transparent;\n",
              "    border-bottom-color: var(--fill-color);\n",
              "    animation:\n",
              "      spin 1s steps(1) infinite;\n",
              "  }\n",
              "\n",
              "  @keyframes spin {\n",
              "    0% {\n",
              "      border-color: transparent;\n",
              "      border-bottom-color: var(--fill-color);\n",
              "      border-left-color: var(--fill-color);\n",
              "    }\n",
              "    20% {\n",
              "      border-color: transparent;\n",
              "      border-left-color: var(--fill-color);\n",
              "      border-top-color: var(--fill-color);\n",
              "    }\n",
              "    30% {\n",
              "      border-color: transparent;\n",
              "      border-left-color: var(--fill-color);\n",
              "      border-top-color: var(--fill-color);\n",
              "      border-right-color: var(--fill-color);\n",
              "    }\n",
              "    40% {\n",
              "      border-color: transparent;\n",
              "      border-right-color: var(--fill-color);\n",
              "      border-top-color: var(--fill-color);\n",
              "    }\n",
              "    60% {\n",
              "      border-color: transparent;\n",
              "      border-right-color: var(--fill-color);\n",
              "    }\n",
              "    80% {\n",
              "      border-color: transparent;\n",
              "      border-right-color: var(--fill-color);\n",
              "      border-bottom-color: var(--fill-color);\n",
              "    }\n",
              "    90% {\n",
              "      border-color: transparent;\n",
              "      border-bottom-color: var(--fill-color);\n",
              "    }\n",
              "  }\n",
              "</style>\n",
              "\n",
              "  <script>\n",
              "    async function quickchart(key) {\n",
              "      const quickchartButtonEl =\n",
              "        document.querySelector('#' + key + ' button');\n",
              "      quickchartButtonEl.disabled = true;  // To prevent multiple clicks.\n",
              "      quickchartButtonEl.classList.add('colab-df-spinner');\n",
              "      try {\n",
              "        const charts = await google.colab.kernel.invokeFunction(\n",
              "            'suggestCharts', [key], {});\n",
              "      } catch (error) {\n",
              "        console.error('Error during call to suggestCharts:', error);\n",
              "      }\n",
              "      quickchartButtonEl.classList.remove('colab-df-spinner');\n",
              "      quickchartButtonEl.classList.add('colab-df-quickchart-complete');\n",
              "    }\n",
              "    (() => {\n",
              "      let quickchartButtonEl =\n",
              "        document.querySelector('#df-6be4b115-637e-428b-b5f2-6b8ffaf46439 button');\n",
              "      quickchartButtonEl.style.display =\n",
              "        google.colab.kernel.accessAllowed ? 'block' : 'none';\n",
              "    })();\n",
              "  </script>\n",
              "</div>\n",
              "\n",
              "    </div>\n",
              "  </div>\n"
            ],
            "text/plain": [
              "   instant      dteday  season  yr  mnth  hr  holiday  weekday  workingday  \\\n",
              "0        1  2011-01-01       1   0     1   0        0        6           0   \n",
              "1        2  2011-01-01       1   0     1   1        0        6           0   \n",
              "2        3  2011-01-01       1   0     1   2        0        6           0   \n",
              "3        4  2011-01-01       1   0     1   3        0        6           0   \n",
              "4        5  2011-01-01       1   0     1   4        0        6           0   \n",
              "\n",
              "   weathersit  temp   atemp   hum  windspeed  casual  registered  cnt  \n",
              "0           1  0.24  0.2879  0.81        0.0       3          13   16  \n",
              "1           1  0.22  0.2727  0.80        0.0       8          32   40  \n",
              "2           1  0.22  0.2727  0.80        0.0       5          27   32  \n",
              "3           1  0.24  0.2879  0.75        0.0       3          10   13  \n",
              "4           1  0.24  0.2879  0.75        0.0       0           1    1  "
            ]
          },
          "execution_count": 61,
          "metadata": {},
          "output_type": "execute_result"
        }
      ],
      "source": [
        "dataframes.head()"
      ]
    },
    {
      "cell_type": "markdown",
      "metadata": {
        "id": "FHSiqaZp8DC1"
      },
      "source": [
        "### Assessing Data"
      ]
    },
    {
      "cell_type": "markdown",
      "metadata": {
        "id": "gWMr_IUmXi2T"
      },
      "source": [
        "Memeriksa Data"
      ]
    },
    {
      "cell_type": "code",
      "execution_count": 53,
      "metadata": {
        "colab": {
          "base_uri": "https://localhost:8080/"
        },
        "id": "ax-3tEjc9Cj1",
        "outputId": "4ff4a1f5-117b-49a5-ca07-f9e9ad2dde60"
      },
      "outputs": [
        {
          "name": "stdout",
          "output_type": "stream",
          "text": [
            "<class 'pandas.core.frame.DataFrame'>\n",
            "RangeIndex: 17379 entries, 0 to 17378\n",
            "Data columns (total 17 columns):\n",
            " #   Column      Non-Null Count  Dtype  \n",
            "---  ------      --------------  -----  \n",
            " 0   instant     17379 non-null  int64  \n",
            " 1   dteday      17379 non-null  object \n",
            " 2   season      17379 non-null  int64  \n",
            " 3   yr          17379 non-null  int64  \n",
            " 4   mnth        17379 non-null  int64  \n",
            " 5   hr          17379 non-null  int64  \n",
            " 6   holiday     17379 non-null  int64  \n",
            " 7   weekday     17379 non-null  int64  \n",
            " 8   workingday  17379 non-null  int64  \n",
            " 9   weathersit  17379 non-null  int64  \n",
            " 10  temp        17379 non-null  float64\n",
            " 11  atemp       17379 non-null  float64\n",
            " 12  hum         17379 non-null  float64\n",
            " 13  windspeed   17379 non-null  float64\n",
            " 14  casual      17379 non-null  int64  \n",
            " 15  registered  17379 non-null  int64  \n",
            " 16  cnt         17379 non-null  int64  \n",
            "dtypes: float64(4), int64(12), object(1)\n",
            "memory usage: 2.3+ MB\n",
            "None\n"
          ]
        }
      ],
      "source": [
        "print(dataframes.info())\n"
      ]
    },
    {
      "cell_type": "markdown",
      "metadata": {
        "id": "q2fWKoBIYF-Z"
      },
      "source": [
        "Apakah ada data yang duplikat?"
      ]
    },
    {
      "cell_type": "code",
      "execution_count": 57,
      "metadata": {
        "colab": {
          "base_uri": "https://localhost:8080/"
        },
        "id": "1bMA2NLcYIz5",
        "outputId": "9ac380ba-422d-4a3e-863d-497bb44e6bc1"
      },
      "outputs": [
        {
          "name": "stdout",
          "output_type": "stream",
          "text": [
            "               Metric  Count\n",
            "0  Total Sample Count  17379\n",
            "1     Duplicate Count      0\n"
          ]
        }
      ],
      "source": [
        "# Menghitung jumlah total sampel dan jumlah duplikat\n",
        "duplicate_df = pd.DataFrame({\n",
        "    'Metric': ['Total Sample Count', 'Duplicate Count'],\n",
        "    'Count': [dataframes.shape[0], dataframes.duplicated().sum()]\n",
        "})\n",
        "\n",
        "# Menampilkan hasil\n",
        "print(duplicate_df)"
      ]
    },
    {
      "cell_type": "markdown",
      "metadata": {
        "id": "61vUWZd3Zxjd"
      },
      "source": [
        "Cek Nilai Yang Kemungkinan Hilang"
      ]
    },
    {
      "cell_type": "code",
      "execution_count": 58,
      "metadata": {
        "colab": {
          "base_uri": "https://localhost:8080/"
        },
        "id": "TGV-YyQ6Z3BZ",
        "outputId": "c68bce9b-871b-4de3-a82b-d4b2380edd4f"
      },
      "outputs": [
        {
          "name": "stdout",
          "output_type": "stream",
          "text": [
            "DataFrames 'Hour':\n",
            "instant       0\n",
            "dteday        0\n",
            "season        0\n",
            "yr            0\n",
            "mnth          0\n",
            "hr            0\n",
            "holiday       0\n",
            "weekday       0\n",
            "workingday    0\n",
            "weathersit    0\n",
            "temp          0\n",
            "atemp         0\n",
            "hum           0\n",
            "windspeed     0\n",
            "casual        0\n",
            "registered    0\n",
            "cnt           0\n",
            "dtype: int64 \n",
            "\n"
          ]
        }
      ],
      "source": [
        "missing_values = dataframes.isnull().sum()\n",
        "print(f\"DataFrames 'Hour':\")\n",
        "print(missing_values, \"\\n\")"
      ]
    },
    {
      "cell_type": "markdown",
      "metadata": {
        "id": "EhN5R4hr8DC1"
      },
      "source": [
        "### Cleaning Data"
      ]
    },
    {
      "cell_type": "markdown",
      "metadata": {
        "id": "29pjDWLIasyh"
      },
      "source": [
        "CNT"
      ]
    },
    {
      "cell_type": "code",
      "execution_count": 59,
      "metadata": {
        "colab": {
          "base_uri": "https://localhost:8080/"
        },
        "id": "FBUyGHAcwU3O",
        "outputId": "50610c5f-93bf-45a4-ff54-e5ac90f9412b"
      },
      "outputs": [
        {
          "name": "stdout",
          "output_type": "stream",
          "text": [
            "cnt\n",
            "5      260\n",
            "6      236\n",
            "4      231\n",
            "3      224\n",
            "2      208\n",
            "      ... \n",
            "913      1\n",
            "847      1\n",
            "777      1\n",
            "661      1\n",
            "636      1\n",
            "Name: count, Length: 869, dtype: int64\n"
          ]
        }
      ],
      "source": [
        "print(dataframes['cnt'].value_counts())"
      ]
    },
    {
      "cell_type": "code",
      "execution_count": 16,
      "metadata": {
        "colab": {
          "base_uri": "https://localhost:8080/"
        },
        "id": "N7qgK_7xx7WY",
        "outputId": "22332d72-1578-4e9f-89d0-dcd13e8e7790"
      },
      "outputs": [
        {
          "name": "stdout",
          "output_type": "stream",
          "text": [
            "instant       0\n",
            "dteday        0\n",
            "season        0\n",
            "yr            0\n",
            "mnth          0\n",
            "holiday       0\n",
            "weekday       0\n",
            "workingday    0\n",
            "weathersit    0\n",
            "temp          0\n",
            "atemp         0\n",
            "hum           0\n",
            "windspeed     0\n",
            "casual        0\n",
            "registered    0\n",
            "cnt           0\n",
            "dtype: int64\n",
            "instant       0\n",
            "dteday        0\n",
            "season        0\n",
            "yr            0\n",
            "mnth          0\n",
            "hr            0\n",
            "holiday       0\n",
            "weekday       0\n",
            "workingday    0\n",
            "weathersit    0\n",
            "temp          0\n",
            "atemp         0\n",
            "hum           0\n",
            "windspeed     0\n",
            "casual        0\n",
            "registered    0\n",
            "cnt           0\n",
            "dtype: int64\n"
          ]
        }
      ],
      "source": [
        "print(dataframes['day'].isnull().sum())\n",
        "print(dataframes['hour'].isnull().sum())"
      ]
    },
    {
      "cell_type": "code",
      "execution_count": 75,
      "metadata": {
        "colab": {
          "base_uri": "https://localhost:8080/"
        },
        "id": "ShUBwmNByL6-",
        "outputId": "f251cc56-9825-4f71-918e-af0f673312a0"
      },
      "outputs": [
        {
          "name": "stdout",
          "output_type": "stream",
          "text": [
            "Jumlah duplikasi day: 0\n",
            "Jumlah duplikasi hour: 0\n"
          ]
        }
      ],
      "source": [
        "print(f\"Jumlah duplikasi day: {dataframes.duplicated().sum()}\")\n",
        "print(f\"Jumlah duplikasi hour: {dataframes.duplicated().sum()}\")"
      ]
    },
    {
      "cell_type": "markdown",
      "metadata": {
        "id": "gp-Y6wU38DC1"
      },
      "source": [
        "## Exploratory Data Analysis (EDA)"
      ]
    },
    {
      "cell_type": "markdown",
      "metadata": {
        "id": "MW7WF2kr8DC1"
      },
      "source": [
        "### Explore MONTH"
      ]
    },
    {
      "cell_type": "code",
      "execution_count": 65,
      "metadata": {
        "id": "kQ7L8pQD2eqz"
      },
      "outputs": [],
      "source": [
        "dataframes['mnth']=dataframes['mnth'].astype('int')"
      ]
    },
    {
      "cell_type": "code",
      "execution_count": 66,
      "metadata": {
        "colab": {
          "base_uri": "https://localhost:8080/",
          "height": 206
        },
        "id": "e9CQCZjk8DC2",
        "outputId": "221ccbc6-1666-49b6-b0d8-b97c4f9057ab"
      },
      "outputs": [
        {
          "data": {
            "application/vnd.google.colaboratory.intrinsic+json": {
              "repr_error": "0",
              "type": "dataframe"
            },
            "text/html": [
              "\n",
              "  <div id=\"df-29247a9e-9e70-45eb-be58-4216e43f7a76\" class=\"colab-df-container\">\n",
              "    <div>\n",
              "<style scoped>\n",
              "    .dataframe tbody tr th:only-of-type {\n",
              "        vertical-align: middle;\n",
              "    }\n",
              "\n",
              "    .dataframe tbody tr th {\n",
              "        vertical-align: top;\n",
              "    }\n",
              "\n",
              "    .dataframe thead th {\n",
              "        text-align: right;\n",
              "    }\n",
              "</style>\n",
              "<table border=\"1\" class=\"dataframe\">\n",
              "  <thead>\n",
              "    <tr style=\"text-align: right;\">\n",
              "      <th></th>\n",
              "      <th>instant</th>\n",
              "      <th>dteday</th>\n",
              "      <th>cnt</th>\n",
              "    </tr>\n",
              "  </thead>\n",
              "  <tbody>\n",
              "    <tr>\n",
              "      <th>12676</th>\n",
              "      <td>12677</td>\n",
              "      <td>2012-06-17</td>\n",
              "      <td>274</td>\n",
              "    </tr>\n",
              "    <tr>\n",
              "      <th>546</th>\n",
              "      <td>547</td>\n",
              "      <td>2011-01-24</td>\n",
              "      <td>35</td>\n",
              "    </tr>\n",
              "    <tr>\n",
              "      <th>5503</th>\n",
              "      <td>5504</td>\n",
              "      <td>2011-08-22</td>\n",
              "      <td>24</td>\n",
              "    </tr>\n",
              "    <tr>\n",
              "      <th>5746</th>\n",
              "      <td>5747</td>\n",
              "      <td>2011-09-01</td>\n",
              "      <td>177</td>\n",
              "    </tr>\n",
              "    <tr>\n",
              "      <th>5737</th>\n",
              "      <td>5738</td>\n",
              "      <td>2011-09-01</td>\n",
              "      <td>229</td>\n",
              "    </tr>\n",
              "  </tbody>\n",
              "</table>\n",
              "</div>\n",
              "    <div class=\"colab-df-buttons\">\n",
              "\n",
              "  <div class=\"colab-df-container\">\n",
              "    <button class=\"colab-df-convert\" onclick=\"convertToInteractive('df-29247a9e-9e70-45eb-be58-4216e43f7a76')\"\n",
              "            title=\"Convert this dataframe to an interactive table.\"\n",
              "            style=\"display:none;\">\n",
              "\n",
              "  <svg xmlns=\"http://www.w3.org/2000/svg\" height=\"24px\" viewBox=\"0 -960 960 960\">\n",
              "    <path d=\"M120-120v-720h720v720H120Zm60-500h600v-160H180v160Zm220 220h160v-160H400v160Zm0 220h160v-160H400v160ZM180-400h160v-160H180v160Zm440 0h160v-160H620v160ZM180-180h160v-160H180v160Zm440 0h160v-160H620v160Z\"/>\n",
              "  </svg>\n",
              "    </button>\n",
              "\n",
              "  <style>\n",
              "    .colab-df-container {\n",
              "      display:flex;\n",
              "      gap: 12px;\n",
              "    }\n",
              "\n",
              "    .colab-df-convert {\n",
              "      background-color: #E8F0FE;\n",
              "      border: none;\n",
              "      border-radius: 50%;\n",
              "      cursor: pointer;\n",
              "      display: none;\n",
              "      fill: #1967D2;\n",
              "      height: 32px;\n",
              "      padding: 0 0 0 0;\n",
              "      width: 32px;\n",
              "    }\n",
              "\n",
              "    .colab-df-convert:hover {\n",
              "      background-color: #E2EBFA;\n",
              "      box-shadow: 0px 1px 2px rgba(60, 64, 67, 0.3), 0px 1px 3px 1px rgba(60, 64, 67, 0.15);\n",
              "      fill: #174EA6;\n",
              "    }\n",
              "\n",
              "    .colab-df-buttons div {\n",
              "      margin-bottom: 4px;\n",
              "    }\n",
              "\n",
              "    [theme=dark] .colab-df-convert {\n",
              "      background-color: #3B4455;\n",
              "      fill: #D2E3FC;\n",
              "    }\n",
              "\n",
              "    [theme=dark] .colab-df-convert:hover {\n",
              "      background-color: #434B5C;\n",
              "      box-shadow: 0px 1px 3px 1px rgba(0, 0, 0, 0.15);\n",
              "      filter: drop-shadow(0px 1px 2px rgba(0, 0, 0, 0.3));\n",
              "      fill: #FFFFFF;\n",
              "    }\n",
              "  </style>\n",
              "\n",
              "    <script>\n",
              "      const buttonEl =\n",
              "        document.querySelector('#df-29247a9e-9e70-45eb-be58-4216e43f7a76 button.colab-df-convert');\n",
              "      buttonEl.style.display =\n",
              "        google.colab.kernel.accessAllowed ? 'block' : 'none';\n",
              "\n",
              "      async function convertToInteractive(key) {\n",
              "        const element = document.querySelector('#df-29247a9e-9e70-45eb-be58-4216e43f7a76');\n",
              "        const dataTable =\n",
              "          await google.colab.kernel.invokeFunction('convertToInteractive',\n",
              "                                                    [key], {});\n",
              "        if (!dataTable) return;\n",
              "\n",
              "        const docLinkHtml = 'Like what you see? Visit the ' +\n",
              "          '<a target=\"_blank\" href=https://colab.research.google.com/notebooks/data_table.ipynb>data table notebook</a>'\n",
              "          + ' to learn more about interactive tables.';\n",
              "        element.innerHTML = '';\n",
              "        dataTable['output_type'] = 'display_data';\n",
              "        await google.colab.output.renderOutput(dataTable, element);\n",
              "        const docLink = document.createElement('div');\n",
              "        docLink.innerHTML = docLinkHtml;\n",
              "        element.appendChild(docLink);\n",
              "      }\n",
              "    </script>\n",
              "  </div>\n",
              "\n",
              "\n",
              "<div id=\"df-4a6e8f12-44ef-45c2-87c3-20c650805035\">\n",
              "  <button class=\"colab-df-quickchart\" onclick=\"quickchart('df-4a6e8f12-44ef-45c2-87c3-20c650805035')\"\n",
              "            title=\"Suggest charts\"\n",
              "            style=\"display:none;\">\n",
              "\n",
              "<svg xmlns=\"http://www.w3.org/2000/svg\" height=\"24px\"viewBox=\"0 0 24 24\"\n",
              "     width=\"24px\">\n",
              "    <g>\n",
              "        <path d=\"M19 3H5c-1.1 0-2 .9-2 2v14c0 1.1.9 2 2 2h14c1.1 0 2-.9 2-2V5c0-1.1-.9-2-2-2zM9 17H7v-7h2v7zm4 0h-2V7h2v10zm4 0h-2v-4h2v4z\"/>\n",
              "    </g>\n",
              "</svg>\n",
              "  </button>\n",
              "\n",
              "<style>\n",
              "  .colab-df-quickchart {\n",
              "      --bg-color: #E8F0FE;\n",
              "      --fill-color: #1967D2;\n",
              "      --hover-bg-color: #E2EBFA;\n",
              "      --hover-fill-color: #174EA6;\n",
              "      --disabled-fill-color: #AAA;\n",
              "      --disabled-bg-color: #DDD;\n",
              "  }\n",
              "\n",
              "  [theme=dark] .colab-df-quickchart {\n",
              "      --bg-color: #3B4455;\n",
              "      --fill-color: #D2E3FC;\n",
              "      --hover-bg-color: #434B5C;\n",
              "      --hover-fill-color: #FFFFFF;\n",
              "      --disabled-bg-color: #3B4455;\n",
              "      --disabled-fill-color: #666;\n",
              "  }\n",
              "\n",
              "  .colab-df-quickchart {\n",
              "    background-color: var(--bg-color);\n",
              "    border: none;\n",
              "    border-radius: 50%;\n",
              "    cursor: pointer;\n",
              "    display: none;\n",
              "    fill: var(--fill-color);\n",
              "    height: 32px;\n",
              "    padding: 0;\n",
              "    width: 32px;\n",
              "  }\n",
              "\n",
              "  .colab-df-quickchart:hover {\n",
              "    background-color: var(--hover-bg-color);\n",
              "    box-shadow: 0 1px 2px rgba(60, 64, 67, 0.3), 0 1px 3px 1px rgba(60, 64, 67, 0.15);\n",
              "    fill: var(--button-hover-fill-color);\n",
              "  }\n",
              "\n",
              "  .colab-df-quickchart-complete:disabled,\n",
              "  .colab-df-quickchart-complete:disabled:hover {\n",
              "    background-color: var(--disabled-bg-color);\n",
              "    fill: var(--disabled-fill-color);\n",
              "    box-shadow: none;\n",
              "  }\n",
              "\n",
              "  .colab-df-spinner {\n",
              "    border: 2px solid var(--fill-color);\n",
              "    border-color: transparent;\n",
              "    border-bottom-color: var(--fill-color);\n",
              "    animation:\n",
              "      spin 1s steps(1) infinite;\n",
              "  }\n",
              "\n",
              "  @keyframes spin {\n",
              "    0% {\n",
              "      border-color: transparent;\n",
              "      border-bottom-color: var(--fill-color);\n",
              "      border-left-color: var(--fill-color);\n",
              "    }\n",
              "    20% {\n",
              "      border-color: transparent;\n",
              "      border-left-color: var(--fill-color);\n",
              "      border-top-color: var(--fill-color);\n",
              "    }\n",
              "    30% {\n",
              "      border-color: transparent;\n",
              "      border-left-color: var(--fill-color);\n",
              "      border-top-color: var(--fill-color);\n",
              "      border-right-color: var(--fill-color);\n",
              "    }\n",
              "    40% {\n",
              "      border-color: transparent;\n",
              "      border-right-color: var(--fill-color);\n",
              "      border-top-color: var(--fill-color);\n",
              "    }\n",
              "    60% {\n",
              "      border-color: transparent;\n",
              "      border-right-color: var(--fill-color);\n",
              "    }\n",
              "    80% {\n",
              "      border-color: transparent;\n",
              "      border-right-color: var(--fill-color);\n",
              "      border-bottom-color: var(--fill-color);\n",
              "    }\n",
              "    90% {\n",
              "      border-color: transparent;\n",
              "      border-bottom-color: var(--fill-color);\n",
              "    }\n",
              "  }\n",
              "</style>\n",
              "\n",
              "  <script>\n",
              "    async function quickchart(key) {\n",
              "      const quickchartButtonEl =\n",
              "        document.querySelector('#' + key + ' button');\n",
              "      quickchartButtonEl.disabled = true;  // To prevent multiple clicks.\n",
              "      quickchartButtonEl.classList.add('colab-df-spinner');\n",
              "      try {\n",
              "        const charts = await google.colab.kernel.invokeFunction(\n",
              "            'suggestCharts', [key], {});\n",
              "      } catch (error) {\n",
              "        console.error('Error during call to suggestCharts:', error);\n",
              "      }\n",
              "      quickchartButtonEl.classList.remove('colab-df-spinner');\n",
              "      quickchartButtonEl.classList.add('colab-df-quickchart-complete');\n",
              "    }\n",
              "    (() => {\n",
              "      let quickchartButtonEl =\n",
              "        document.querySelector('#df-4a6e8f12-44ef-45c2-87c3-20c650805035 button');\n",
              "      quickchartButtonEl.style.display =\n",
              "        google.colab.kernel.accessAllowed ? 'block' : 'none';\n",
              "    })();\n",
              "  </script>\n",
              "</div>\n",
              "\n",
              "    </div>\n",
              "  </div>\n"
            ],
            "text/plain": [
              "       instant      dteday  cnt\n",
              "12676    12677  2012-06-17  274\n",
              "546        547  2011-01-24   35\n",
              "5503      5504  2011-08-22   24\n",
              "5746      5747  2011-09-01  177\n",
              "5737      5738  2011-09-01  229"
            ]
          },
          "execution_count": 66,
          "metadata": {},
          "output_type": "execute_result"
        }
      ],
      "source": [
        "dataframes[['instant', 'dteday', 'cnt']].sample(5)"
      ]
    },
    {
      "cell_type": "code",
      "execution_count": 76,
      "metadata": {
        "colab": {
          "base_uri": "https://localhost:8080/",
          "height": 491
        },
        "id": "ANSsRT1b3QzZ",
        "outputId": "944326a1-0c95-4647-a9fb-22fd6a16bba1"
      },
      "outputs": [
        {
          "data": {
            "text/html": [
              "<div>\n",
              "<style scoped>\n",
              "    .dataframe tbody tr th:only-of-type {\n",
              "        vertical-align: middle;\n",
              "    }\n",
              "\n",
              "    .dataframe tbody tr th {\n",
              "        vertical-align: top;\n",
              "    }\n",
              "\n",
              "    .dataframe thead th {\n",
              "        text-align: right;\n",
              "    }\n",
              "</style>\n",
              "<table border=\"1\" class=\"dataframe\">\n",
              "  <thead>\n",
              "    <tr style=\"text-align: right;\">\n",
              "      <th></th>\n",
              "      <th>cnt</th>\n",
              "    </tr>\n",
              "    <tr>\n",
              "      <th>mnth</th>\n",
              "      <th></th>\n",
              "    </tr>\n",
              "  </thead>\n",
              "  <tbody>\n",
              "    <tr>\n",
              "      <th>1</th>\n",
              "      <td>134933</td>\n",
              "    </tr>\n",
              "    <tr>\n",
              "      <th>2</th>\n",
              "      <td>151352</td>\n",
              "    </tr>\n",
              "    <tr>\n",
              "      <th>3</th>\n",
              "      <td>228920</td>\n",
              "    </tr>\n",
              "    <tr>\n",
              "      <th>4</th>\n",
              "      <td>269094</td>\n",
              "    </tr>\n",
              "    <tr>\n",
              "      <th>5</th>\n",
              "      <td>331686</td>\n",
              "    </tr>\n",
              "    <tr>\n",
              "      <th>6</th>\n",
              "      <td>346342</td>\n",
              "    </tr>\n",
              "    <tr>\n",
              "      <th>7</th>\n",
              "      <td>344948</td>\n",
              "    </tr>\n",
              "    <tr>\n",
              "      <th>8</th>\n",
              "      <td>351194</td>\n",
              "    </tr>\n",
              "    <tr>\n",
              "      <th>9</th>\n",
              "      <td>345991</td>\n",
              "    </tr>\n",
              "    <tr>\n",
              "      <th>10</th>\n",
              "      <td>322352</td>\n",
              "    </tr>\n",
              "    <tr>\n",
              "      <th>11</th>\n",
              "      <td>254831</td>\n",
              "    </tr>\n",
              "    <tr>\n",
              "      <th>12</th>\n",
              "      <td>211036</td>\n",
              "    </tr>\n",
              "  </tbody>\n",
              "</table>\n",
              "</div><br><label><b>dtype:</b> int64</label>"
            ],
            "text/plain": [
              "mnth\n",
              "1     134933\n",
              "2     151352\n",
              "3     228920\n",
              "4     269094\n",
              "5     331686\n",
              "6     346342\n",
              "7     344948\n",
              "8     351194\n",
              "9     345991\n",
              "10    322352\n",
              "11    254831\n",
              "12    211036\n",
              "Name: cnt, dtype: int64"
            ]
          },
          "execution_count": 76,
          "metadata": {},
          "output_type": "execute_result"
        }
      ],
      "source": [
        "dataframes.groupby('mnth')['cnt'].sum().sort_index(ascending=True)"
      ]
    },
    {
      "cell_type": "markdown",
      "metadata": {
        "id": "_BDqwLuVfiVs"
      },
      "source": [
        "### Explore Data\n"
      ]
    },
    {
      "cell_type": "code",
      "execution_count": 77,
      "metadata": {
        "colab": {
          "base_uri": "https://localhost:8080/"
        },
        "id": "oqKGpYoB-trA",
        "outputId": "a98e02b9-bdec-40c7-a4df-291f0e5d24be"
      },
      "outputs": [
        {
          "name": "stdout",
          "output_type": "stream",
          "text": [
            "\n",
            "Eksplorasi Kolom 'season':\n",
            "season\n",
            "4    4232\n",
            "1    4242\n",
            "2    4409\n",
            "3    4496\n",
            "dtype: int64\n",
            "\n",
            "Eksplorasi Kolom 'yr':\n",
            "yr\n",
            "0    8645\n",
            "1    8734\n",
            "dtype: int64\n",
            "\n",
            "Eksplorasi Kolom 'mnth':\n",
            "mnth\n",
            "2     1341\n",
            "1     1429\n",
            "4     1437\n",
            "9     1437\n",
            "11    1437\n",
            "6     1440\n",
            "10    1451\n",
            "3     1473\n",
            "8     1475\n",
            "12    1483\n",
            "5     1488\n",
            "7     1488\n",
            "dtype: int64\n",
            "\n",
            "Eksplorasi Kolom 'hr':\n",
            "hr\n",
            "3     697\n",
            "4     697\n",
            "2     715\n",
            "5     717\n",
            "1     724\n",
            "6     725\n",
            "0     726\n",
            "10    727\n",
            "9     727\n",
            "11    727\n",
            "7     727\n",
            "8     727\n",
            "22    728\n",
            "12    728\n",
            "18    728\n",
            "19    728\n",
            "20    728\n",
            "21    728\n",
            "23    728\n",
            "13    729\n",
            "14    729\n",
            "15    729\n",
            "16    730\n",
            "17    730\n",
            "dtype: int64\n",
            "\n",
            "Eksplorasi Kolom 'holiday':\n",
            "holiday\n",
            "1      500\n",
            "0    16879\n",
            "dtype: int64\n",
            "\n",
            "Eksplorasi Kolom 'weekday':\n",
            "weekday\n",
            "2    2453\n",
            "4    2471\n",
            "3    2475\n",
            "1    2479\n",
            "5    2487\n",
            "0    2502\n",
            "6    2512\n",
            "dtype: int64\n",
            "\n",
            "Eksplorasi Kolom 'workingday':\n",
            "workingday\n",
            "0     5514\n",
            "1    11865\n",
            "dtype: int64\n",
            "\n",
            "Eksplorasi Kolom 'weathersit':\n",
            "weathersit\n",
            "4        3\n",
            "3     1419\n",
            "2     4544\n",
            "1    11413\n",
            "dtype: int64\n",
            "\n",
            "Eksplorasi Kolom 'temp':\n",
            "temp\n",
            "1.00       294\n",
            "0.08       480\n",
            "0.98       539\n",
            "0.04       570\n",
            "0.06       672\n",
            "0.02       712\n",
            "0.10      2514\n",
            "0.94      3690\n",
            "0.96      4392\n",
            "0.12      4440\n",
            "0.14      7605\n",
            "0.18      9318\n",
            "0.16     15083\n",
            "0.92     15681\n",
            "0.88     19274\n",
            "0.90     27836\n",
            "0.20     28230\n",
            "0.22     29434\n",
            "0.28     32132\n",
            "0.24     41843\n",
            "0.86     42307\n",
            "0.84     44963\n",
            "0.26     49170\n",
            "0.78     52930\n",
            "0.48     54845\n",
            "0.38     61087\n",
            "0.58     67730\n",
            "0.82     72354\n",
            "0.68     73129\n",
            "0.30     74303\n",
            "0.44     80566\n",
            "0.32     82015\n",
            "0.34     87274\n",
            "0.46     91065\n",
            "0.42     96087\n",
            "0.36     99202\n",
            "0.40    102809\n",
            "0.50    105366\n",
            "0.52    112850\n",
            "0.80    112897\n",
            "0.54    113962\n",
            "0.56    123756\n",
            "0.76    135660\n",
            "0.62    148185\n",
            "0.60    149905\n",
            "0.64    154985\n",
            "0.66    156204\n",
            "0.74    161587\n",
            "0.72    163449\n",
            "0.70    177298\n",
            "Name: cnt, dtype: int64\n",
            "\n",
            "Eksplorasi Kolom 'atemp':\n",
            "atemp\n",
            "0.0152        13\n",
            "0.0000        39\n",
            "1.0000       101\n",
            "0.0303       111\n",
            "0.9545       115\n",
            "           ...  \n",
            "0.6970    127608\n",
            "0.6061    129150\n",
            "0.6667    155734\n",
            "0.6515    162997\n",
            "0.6212    311459\n",
            "Name: cnt, Length: 65, dtype: int64\n",
            "\n",
            "Eksplorasi Kolom 'hum':\n",
            "hum\n",
            "0.13       17\n",
            "0.12       29\n",
            "0.14       38\n",
            "0.97       64\n",
            "0.08       77\n",
            "        ...  \n",
            "0.62    76125\n",
            "0.66    76920\n",
            "0.46    79253\n",
            "0.55    86206\n",
            "0.83    93265\n",
            "Name: cnt, Length: 89, dtype: int64\n",
            "\n",
            "Eksplorasi Kolom 'windspeed':\n",
            "windspeed\n",
            "0.7761         5\n",
            "0.8358        16\n",
            "0.8060       207\n",
            "0.7164       281\n",
            "0.7463       360\n",
            "0.8507       539\n",
            "0.6866       589\n",
            "0.6418      2035\n",
            "0.6567      2112\n",
            "0.6119      3695\n",
            "0.5522      6282\n",
            "0.5821      7197\n",
            "0.5224     16953\n",
            "0.4925     21640\n",
            "0.4627     28734\n",
            "0.4478     36610\n",
            "0.4179     63378\n",
            "0.3881     84879\n",
            "0.3582     96613\n",
            "0.3284    118684\n",
            "0.2985    173774\n",
            "0.0896    213804\n",
            "0.2836    225882\n",
            "0.1045    268821\n",
            "0.2537    276880\n",
            "0.1343    306423\n",
            "0.2239    320678\n",
            "0.1940    332407\n",
            "0.1642    332998\n",
            "0.0000    350203\n",
            "Name: cnt, dtype: int64\n",
            "\n",
            "Eksplorasi Kolom 'casual':\n",
            "casual\n",
            "210      449\n",
            "234      475\n",
            "270      498\n",
            "261      504\n",
            "231      522\n",
            "       ...  \n",
            "20     42433\n",
            "27     42713\n",
            "9      43557\n",
            "12     44538\n",
            "11     46292\n",
            "Name: cnt, Length: 322, dtype: int64\n",
            "\n",
            "Eksplorasi Kolom 'registered':\n",
            "registered\n",
            "0         35\n",
            "1        294\n",
            "476      517\n",
            "520      537\n",
            "538      557\n",
            "       ...  \n",
            "247    11749\n",
            "228    11829\n",
            "156    11837\n",
            "161    12081\n",
            "176    12095\n",
            "Name: cnt, Length: 776, dtype: int64\n",
            "\n",
            "Eksplorasi Kolom 'cnt':\n",
            "cnt\n",
            "1       158\n",
            "2       416\n",
            "548     548\n",
            "629     629\n",
            "630     630\n",
            "       ... \n",
            "225    9000\n",
            "274    9042\n",
            "224    9184\n",
            "328    9184\n",
            "233    9553\n",
            "Name: cnt, Length: 869, dtype: int64\n"
          ]
        }
      ],
      "source": [
        "columns_to_explore = [\n",
        "    'season', 'yr', 'mnth', 'hr', 'holiday',\n",
        "    'weekday', 'workingday', 'weathersit', 'temp', 'atemp', 'hum',\n",
        "    'windspeed', 'casual', 'registered', 'cnt'\n",
        "]\n",
        "\n",
        "# Fungsi untuk mengeksplorasi dataset berdasarkan kolom\n",
        "def explore_column(column):\n",
        "    if column in ['instant', 'dteday']:  # Tidak relevan untuk groupby\n",
        "        print(f\"\\nKolom '{column}': Tidak relevan untuk eksplorasi dengan groupby.\")\n",
        "        print(dataframes[column].head())  # Tampilkan 5 sampel pertama\n",
        "    elif column in ['cnt', 'casual', 'registered', 'temp', 'atemp', 'hum', 'windspeed']:\n",
        "        # Mengelompokkan data berdasarkan kolom tersebut dan menghitung total cnt\n",
        "        print(f\"\\nEksplorasi Kolom '{column}':\")\n",
        "        grouped_data = (\n",
        "            dataframes.groupby(column)['cnt']\n",
        "            .sum()\n",
        "            .sort_values(ascending=True)\n",
        "        )\n",
        "        print(grouped_data)\n",
        "    else:\n",
        "        # Mengelompokkan data berdasarkan kolom tersebut dan menghitung jumlah baris\n",
        "        print(f\"\\nEksplorasi Kolom '{column}':\")\n",
        "        grouped_data = (\n",
        "            dataframes.groupby(column)\n",
        "            .size()\n",
        "            .sort_values(ascending=True)\n",
        "        )\n",
        "        print(grouped_data)\n",
        "\n",
        "# Looping untuk mengeksplorasi setiap kolom\n",
        "for col in columns_to_explore:\n",
        "    explore_column(col)"
      ]
    },
    {
      "cell_type": "markdown",
      "metadata": {
        "id": "zsyZjqak8DC2"
      },
      "source": [
        "## Visualization & Explanatory Analysis"
      ]
    },
    {
      "cell_type": "markdown",
      "metadata": {
        "id": "HZxOiQ6n8DC2"
      },
      "source": [
        "### Pertanyaan 1: Bagaimana pola penggunaan sepeda berdasarkan jam dalam sehari?"
      ]
    },
    {
      "cell_type": "code",
      "execution_count": 69,
      "metadata": {
        "colab": {
          "base_uri": "https://localhost:8080/",
          "height": 1000
        },
        "id": "1swJUdAD8DC2",
        "outputId": "23cde5bd-2d45-49d9-d69d-fbb4db55b76b"
      },
      "outputs": [
        {
          "name": "stdout",
          "output_type": "stream",
          "text": [
            "Pola Penggunaan Sepeda Berdasarkan Jam:\n",
            "hr\n",
            "0      53.898072\n",
            "1      33.375691\n",
            "2      22.869930\n",
            "3      11.727403\n",
            "4       6.352941\n",
            "5      19.889819\n",
            "6      76.044138\n",
            "7     212.064649\n",
            "8     359.011004\n",
            "9     219.309491\n",
            "10    173.668501\n",
            "11    208.143054\n",
            "12    253.315934\n",
            "13    253.661180\n",
            "14    240.949246\n",
            "15    251.233196\n",
            "16    311.983562\n",
            "17    461.452055\n",
            "18    425.510989\n",
            "19    311.523352\n",
            "20    226.030220\n",
            "21    172.314560\n",
            "22    131.335165\n",
            "23     87.831044\n",
            "Name: cnt, dtype: float64\n"
          ]
        },
        {
          "data": {
            "image/png": "[encoded data removed]",
            "text/plain": [
              "<Figure size 1000x600 with 1 Axes>"
            ]
          },
          "metadata": {},
          "output_type": "display_data"
        }
      ],
      "source": [
        "# Mengelompokkan data berdasarkan jam (hr) dan menghitung rata-rata jumlah penggunaan sepeda (cnt)\n",
        "hourly_pattern = dataframes.groupby('hr')['cnt'].mean()\n",
        "\n",
        "# Menampilkan pola penggunaan sepeda berdasarkan jam\n",
        "print(\"Pola Penggunaan Sepeda Berdasarkan Jam:\")\n",
        "print(hourly_pattern)\n",
        "\n",
        "# Visualisasi pola penggunaan sepeda berdasarkan jam\n",
        "plt.figure(figsize=(10, 6))\n",
        "hourly_pattern.plot(kind='bar', color='skyblue', edgecolor='black')\n",
        "plt.title(\"Pola Penggunaan Sepeda Berdasarkan Jam\", fontsize=16)\n",
        "plt.xlabel(\"Jam dalam Sehari\", fontsize=12)\n",
        "plt.ylabel(\"Rata-rata Jumlah Penggunaan Sepeda\", fontsize=12)\n",
        "plt.xticks(rotation=0)\n",
        "plt.grid(axis='y', linestyle='--', alpha=0.7)\n",
        "plt.tight_layout()\n",
        "plt.show()"
      ]
    },
    {
      "cell_type": "markdown",
      "metadata": {},
      "source": [
        "Pola penggunaan sepeda berdasarkan jam menunjukkan puncak penggunaan sekitar jam 7 pagi dan 5 sore, saat orang pergi bekerja atau bersekolah. Pada jam-jam awal (0-5), penggunaan sangat rendah, dengan penurunan setelah jam 8 pagi. Terdapat sedikit peningkatan saat jam makan siang, tetapi penggunaan mulai menurun drastis setelah jam 19. Ini mencerminkan kebiasaan bersepeda yang dipengaruhi oleh rutinitas harian dan kondisi cahaya."
      ]
    },
    {
      "cell_type": "markdown",
      "metadata": {
        "id": "DgHI7CiU8DC2"
      },
      "source": [
        "### Pertanyaan 2: Apakah cuaca memengaruhi jumlah peminjaman sepeda?"
      ]
    },
    {
      "cell_type": "code",
      "execution_count": 71,
      "metadata": {
        "colab": {
          "base_uri": "https://localhost:8080/",
          "height": 728
        },
        "id": "Go0lCsvO8DC2",
        "outputId": "cecae291-13c8-4524-f52f-be0dc6398cb5"
      },
      "outputs": [
        {
          "name": "stdout",
          "output_type": "stream",
          "text": [
            "Pengaruh Cuaca terhadap Jumlah Peminjaman Sepeda:\n",
            "weathersit\n",
            "1    204.869272\n",
            "2    175.165493\n",
            "3    111.579281\n",
            "4     74.333333\n",
            "Name: cnt, dtype: float64\n"
          ]
        },
        {
          "data": {
            "image/png": "[encoded data removed]",
            "text/plain": [
              "<Figure size 800x600 with 1 Axes>"
            ]
          },
          "metadata": {},
          "output_type": "display_data"
        }
      ],
      "source": [
        "# Mengelompokkan data berdasarkan kondisi cuaca ('weathersit') dan menghitung rata-rata jumlah penggunaan sepeda ('cnt')\n",
        "weather_impact = dataframes.groupby('weathersit')['cnt'].mean()\n",
        "\n",
        "# Menampilkan pengaruh cuaca terhadap jumlah peminjaman sepeda\n",
        "print(\"Pengaruh Cuaca terhadap Jumlah Peminjaman Sepeda:\")\n",
        "print(weather_impact)\n",
        "\n",
        "# Membuat keterangan untuk kondisi cuaca\n",
        "weather_labels = {\n",
        "    1: 'Cuaca Sangat Baik (Clear)',\n",
        "    2: 'Cuaca Sedikit Berawan (Partly Cloudy)',\n",
        "    3: 'Cuaca Berawan (Cloudy)',\n",
        "    4: 'Cuaca Hujan (Rainy)'\n",
        "}\n",
        "\n",
        "# Visualisasi pengaruh cuaca terhadap jumlah peminjaman sepeda\n",
        "plt.figure(figsize=(8, 6))\n",
        "weather_impact.plot(kind='bar', color='lightgreen', edgecolor='black')\n",
        "\n",
        "# Menambahkan judul, sumbu x, dan sumbu y\n",
        "plt.title(\"Pengaruh Cuaca terhadap Jumlah Peminjaman Sepeda\", fontsize=16)\n",
        "plt.xlabel(\"Kondisi Cuaca\", fontsize=12)\n",
        "plt.ylabel(\"Rata-rata Jumlah Peminjaman Sepeda\", fontsize=12)\n",
        "\n",
        "# Menambahkan keterangan cuaca di sumbu x\n",
        "plt.xticks(ticks=range(len(weather_impact)), labels=[weather_labels[i] for i in weather_impact.index], rotation=45)\n",
        "\n",
        "# Menambahkan grid pada sumbu y\n",
        "plt.grid(axis='y', linestyle='--', alpha=0.7)\n",
        "plt.tight_layout()\n",
        "\n",
        "# Menampilkan plot\n",
        "plt.show()"
      ]
    },
    {
      "cell_type": "markdown",
      "metadata": {
        "id": "unKXIXVUyHQm"
      },
      "source": [
        "Cuaca memengaruhi jumlah peminjaman sepeda secara signifikan. Peminjaman tertinggi terjadi saat cuaca sangat baik (clear) dan sedikit berawan (partly cloudy), sementara saat hujan, jumlah peminjaman turun drastis. Ini menunjukkan orang lebih cenderung bersepeda pada cuaca baik.\n"
      ]
    },
    {
      "cell_type": "markdown",
      "metadata": {
        "id": "C8HGmuKjvx4R"
      },
      "source": [
        "# Pertanyaan 3: - Bagaimana perbedaan jumlah penggunaan sepeda antara hari kerja dan hari libur?"
      ]
    },
    {
      "cell_type": "code",
      "execution_count": 72,
      "metadata": {
        "colab": {
          "base_uri": "https://localhost:8080/",
          "height": 693
        },
        "id": "XgZ98FE-wRC0",
        "outputId": "99811067-5aff-45eb-9cae-cc520535daf6"
      },
      "outputs": [
        {
          "name": "stdout",
          "output_type": "stream",
          "text": [
            "Perbedaan Jumlah Penggunaan Sepeda antara Hari Kerja dan Hari Libur:\n",
            "workingday\n",
            "0    1000269\n",
            "1    2292410\n",
            "Name: cnt, dtype: int64\n"
          ]
        },
        {
          "data": {
            "image/png": "[encoded data removed]",
            "text/plain": [
              "<Figure size 800x600 with 1 Axes>"
            ]
          },
          "metadata": {},
          "output_type": "display_data"
        }
      ],
      "source": [
        "# Mengelompokkan data berdasarkan apakah hari kerja atau hari libur ('workingday') dan menghitung jumlah peminjaman sepeda ('cnt')\n",
        "workingday_impact = dataframes.groupby('workingday')['cnt'].sum()\n",
        "\n",
        "# Menampilkan perbedaan jumlah penggunaan sepeda antara hari kerja dan hari libur\n",
        "print(\"Perbedaan Jumlah Penggunaan Sepeda antara Hari Kerja dan Hari Libur:\")\n",
        "print(workingday_impact)\n",
        "\n",
        "# Visualisasi perbedaan jumlah penggunaan sepeda antara hari kerja dan hari libur\n",
        "plt.figure(figsize=(8, 6))\n",
        "workingday_impact.plot(kind='bar', color=['lightblue', 'salmon'], edgecolor='black')\n",
        "\n",
        "# Menambahkan judul, sumbu x, dan sumbu y\n",
        "plt.title(\"Perbedaan Jumlah Penggunaan Sepeda antara Hari Kerja dan Hari Libur\", fontsize=16)\n",
        "plt.xlabel(\"Hari Kerja vs Hari Libur\", fontsize=12)\n",
        "plt.ylabel(\"Jumlah Penggunaan Sepeda\", fontsize=12)\n",
        "\n",
        "# Menambahkan label sumbu x dengan keterangan\n",
        "plt.xticks(ticks=[0, 1], labels=['Hari Libur (0)', 'Hari Kerja (1)'], rotation=0)\n",
        "\n",
        "# Menambahkan grid pada sumbu y\n",
        "plt.grid(axis='y', linestyle='--', alpha=0.7)\n",
        "plt.tight_layout()\n",
        "\n",
        "# Menampilkan plot\n",
        "plt.show()"
      ]
    },
    {
      "cell_type": "markdown",
      "metadata": {},
      "source": [
        "Pada hari kerja, penggunaan sepeda jauh lebih tinggi dibandingkan pada hari libur. Hal ini mencerminkan kebutuhan untuk berangkat kerja atau sekolah yang lebih mendominasi aktivitas bersepeda.\n"
      ]
    },
    {
      "cell_type": "markdown",
      "metadata": {
        "id": "-KVrADqvDIgZ"
      },
      "source": [
        "# Pertanyaan 4: Bagaimana pengaruh suhu terhadap jumlah peminjaman sepeda?"
      ]
    },
    {
      "cell_type": "code",
      "execution_count": 73,
      "metadata": {
        "colab": {
          "base_uri": "https://localhost:8080/",
          "height": 1000
        },
        "id": "CN44DpOoDEW3",
        "outputId": "0cde1c71-2c9d-4070-c21f-cca4a524244b"
      },
      "outputs": [
        {
          "name": "stdout",
          "output_type": "stream",
          "text": [
            "Pengaruh Suhu terhadap Jumlah Peminjaman Sepeda:\n",
            "temp\n",
            "0.02     41.882353\n",
            "0.04     35.625000\n",
            "0.06     42.000000\n",
            "0.08     28.235294\n",
            "0.10     49.294118\n",
            "0.12     58.421053\n",
            "0.14     55.108696\n",
            "0.16     65.578261\n",
            "0.18     60.116129\n",
            "0.20     79.745763\n",
            "0.22     69.914489\n",
            "0.24     80.159004\n",
            "0.26     87.960644\n",
            "0.28    106.750831\n",
            "0.30    115.917317\n",
            "0.32    134.230769\n",
            "0.34    135.308527\n",
            "0.36    147.842027\n",
            "0.38    164.212366\n",
            "0.40    167.441368\n",
            "0.42    175.341241\n",
            "0.44    158.907298\n",
            "0.46    162.906977\n",
            "0.48    190.434028\n",
            "0.50    198.429379\n",
            "0.52    202.967626\n",
            "0.54    200.284710\n",
            "0.56    213.740933\n",
            "0.58    222.065574\n",
            "0.60    222.081481\n",
            "0.62    204.111570\n",
            "0.64    223.966763\n",
            "0.66    225.402597\n",
            "0.68    209.538682\n",
            "0.70    256.953623\n",
            "0.72    286.752632\n",
            "0.74    313.153101\n",
            "0.76    342.575758\n",
            "0.78    313.195266\n",
            "0.80    347.375385\n",
            "0.82    339.690141\n",
            "0.84    325.818841\n",
            "0.86    322.954198\n",
            "0.88    363.660377\n",
            "0.90    309.288889\n",
            "0.92    320.020408\n",
            "0.94    217.058824\n",
            "0.96    274.500000\n",
            "0.98    539.000000\n",
            "1.00    294.000000\n",
            "Name: cnt, dtype: float64\n"
          ]
        },
        {
          "data": {
            "image/png": "[encoded data removed]",
            "text/plain": [
              "<Figure size 800x600 with 1 Axes>"
            ]
          },
          "metadata": {},
          "output_type": "display_data"
        }
      ],
      "source": [
        "# Mengelompokkan data berdasarkan suhu ('temp') dan menghitung rata-rata jumlah peminjaman sepeda ('cnt')\n",
        "temp_impact = dataframes.groupby('temp')['cnt'].mean()\n",
        "\n",
        "# Menampilkan pengaruh suhu terhadap jumlah peminjaman sepeda\n",
        "print(\"Pengaruh Suhu terhadap Jumlah Peminjaman Sepeda:\")\n",
        "print(temp_impact)\n",
        "\n",
        "# Visualisasi pengaruh suhu terhadap jumlah peminjaman sepeda\n",
        "plt.figure(figsize=(8, 6))\n",
        "temp_impact.plot(kind='line', marker='o', color='orange')\n",
        "\n",
        "# Menambahkan judul, sumbu x, dan sumbu y\n",
        "plt.title(\"Pengaruh Suhu terhadap Jumlah Peminjaman Sepeda\", fontsize=16)\n",
        "plt.xlabel(\"Suhu (°C)\", fontsize=12)\n",
        "plt.ylabel(\"Rata-rata Jumlah Peminjaman Sepeda\", fontsize=12)\n",
        "\n",
        "# Menambahkan grid pada sumbu y\n",
        "plt.grid(axis='y', linestyle='--', alpha=0.7)\n",
        "plt.tight_layout()\n",
        "\n",
        "# Menampilkan plot\n",
        "plt.show()"
      ]
    },
    {
      "cell_type": "markdown",
      "metadata": {},
      "source": [
        "Suhu berpengaruh positif terhadap peminjaman sepeda; jumlah peminjaman meningkat seiring dengan naiknya suhu. Orang cenderung lebih banyak bersepeda saat cuaca hangat.\n"
      ]
    },
    {
      "cell_type": "markdown",
      "metadata": {
        "id": "PmtXSaVcDsi7"
      },
      "source": [
        "## Pertanyaan 5 : Bagaimana tren penggunaan sepeda sepanjang tahun?"
      ]
    },
    {
      "cell_type": "code",
      "execution_count": 74,
      "metadata": {
        "colab": {
          "base_uri": "https://localhost:8080/",
          "height": 765
        },
        "id": "l_U1fCwGD4uo",
        "outputId": "35ae27f6-af98-440a-e573-c072803769a8"
      },
      "outputs": [
        {
          "name": "stdout",
          "output_type": "stream",
          "text": [
            "Tren Penggunaan Sepeda Sepanjang Tahun:\n",
            "yr         0       1\n",
            "mnth                \n",
            "1      38189   96744\n",
            "2      48215  103137\n",
            "3      64045  164875\n",
            "4      94870  174224\n",
            "5     135821  195865\n",
            "6     143512  202830\n",
            "7     141341  203607\n",
            "8     136691  214503\n",
            "9     127418  218573\n",
            "10    123511  198841\n",
            "11    102167  152664\n",
            "12     87323  123713\n"
          ]
        },
        {
          "data": {
            "text/plain": [
              "<Figure size 1000x600 with 0 Axes>"
            ]
          },
          "metadata": {},
          "output_type": "display_data"
        },
        {
          "data": {
            "image/png": "[encoded data removed]",
            "text/plain": [
              "<Figure size 640x480 with 1 Axes>"
            ]
          },
          "metadata": {},
          "output_type": "display_data"
        }
      ],
      "source": [
        "# Mengelompokkan data berdasarkan tahun ('yr') dan bulan ('mnth') untuk menghitung jumlah peminjaman sepeda ('cnt')\n",
        "yearly_monthly_trend = dataframes.groupby(['yr', 'mnth'])['cnt'].sum().unstack(level=0)\n",
        "\n",
        "# Menampilkan tren penggunaan sepeda sepanjang tahun\n",
        "print(\"Tren Penggunaan Sepeda Sepanjang Tahun:\")\n",
        "print(yearly_monthly_trend)\n",
        "\n",
        "# Visualisasi tren penggunaan sepeda sepanjang tahun\n",
        "plt.figure(figsize=(10, 6))\n",
        "\n",
        "# Plot tren dengan tahun sebagai legenda\n",
        "yearly_monthly_trend.plot(kind='line', marker='o')\n",
        "\n",
        "# Menambahkan judul, sumbu x, dan sumbu y\n",
        "plt.title(\"Tren Penggunaan Sepeda Sepanjang Tahun\", fontsize=16)\n",
        "plt.xlabel(\"Bulan\", fontsize=12)\n",
        "plt.ylabel(\"Jumlah Penggunaan Sepeda\", fontsize=12)\n",
        "\n",
        "# Menambahkan keterangan untuk tahun\n",
        "plt.legend(title=\"Tahun\", labels=[f\"Tahun {int(year)}\" for year in yearly_monthly_trend.columns])\n",
        "\n",
        "# Menambahkan grid\n",
        "plt.grid(axis='y', linestyle='--', alpha=0.7)\n",
        "plt.tight_layout()\n",
        "\n",
        "# Menampilkan plot\n",
        "plt.show()"
      ]
    },
    {
      "cell_type": "markdown",
      "metadata": {
        "id": "_0-36BDLklRg"
      },
      "source": [
        "Tren penggunaan sepeda menunjukkan peningkatan signifikan pada pertengahan tahun, dengan puncak penggunaan di bulan 5 atau 6. Tahun 1 menunjukkan tingkat penggunaan lebih tinggi dibandingkan Tahun 0, tetapi keduanya menurun menjelang akhir tahun.\n"
      ]
    },
    {
      "cell_type": "markdown",
      "metadata": {
        "id": "_WeHlCeX8DC2"
      },
      "source": [
        "## Conclusion"
      ]
    },
    {
      "cell_type": "markdown",
      "metadata": {
        "id": "ZTcyR48Y8DC2"
      },
      "source": [
        "- Bagaimana pola penggunaan sepeda berdasarkan jam dalam sehari?\n",
        "- Apakah cuaca memengaruhi jumlah peminjaman sepeda?\n",
        "- Bagaimana perbedaan jumlah penggunaan sepeda antara hari kerja dan hari libur?\n",
        "- Bagaimana pengaruh suhu terhadap jumlah peminjaman sepeda?\n",
        "- Bagaimana tren penggunaan sepeda sepanjang tahun?"
      ]
    },
    {
      "cell_type": "markdown",
      "metadata": {
        "id": "kktvL_hUzpc0"
      },
      "source": [
        "Pola penggunaan sepeda berdasarkan jam dalam sehari menunjukkan bahwa penggunaan sepeda mencapai puncaknya sekitar jam 7 pagi dan 5 sore, menunjukkan aktivitas bersepeda yang lebih tinggi saat orang berangkat kerja atau sekolah. Pada jam-jam awal (0-5), penggunaan sepeda sangat rendah, mencerminkan bahwa sebagian besar orang tidak bersepeda di malam hingga pagi dini hari. setelah jam 8 pagi, terjadi penurunan, dengan sedikit peningkatan saat jam makan siang (12-14), sebelum kembali meningkat di sore hari. Namun, setelah jam 19, penggunaan sepeda menurun drastis, menunjukkan bahwa aktivitas bersepeda berkurang pada malam hari. Pola ini mencerminkan kebiasaan bersepeda yang terpengaruh oleh rutinitas harian dan faktor-faktor seperti cuaca serta ketersediaan cahaya.\n"
      ]
    },
    {
      "cell_type": "markdown",
      "metadata": {
        "id": "D32H1omNz990"
      },
      "source": [
        "cuaca sangat memengaruhi jumlah peminjaman sepeda. Dari grafik tersebut, terlihat bahwa jumlah peminjaman tertinggi terjadi pada kondisi cuaca sangat baik (clear) dan sedikit berawan (partly cloudy), dengan rata-rata lebih dari 200 peminjaman. Sebaliknya, saat cuaca hujan, jumlah peminjaman turun drastis. Ini menunjukkan bahwa orang cenderung lebih banyak bersepeda pada cuaca yang baik dan menghindari bersepeda saat kondisi cuaca buruk."
      ]
    },
    {
      "cell_type": "markdown",
      "metadata": {
        "id": "j_oe3OLh0I1Y"
      },
      "source": [
        "Perbedaan jumlah penggunaan sepeda antara hari kerja dan hari libur sangat mencolok. Pada hari kerja, jumlah penggunaan sepeda mencapai lebih dari 2 juta, sedangkan pada hari libur hanya sekitar 1 juta. Ini menunjukkan bahwa penggunaan sepeda jauh lebih tinggi pada hari kerja dibandingkan hari libur, yang mungkin disebabkan oleh kebutuhan untuk berangkat kerja atau sekolah.\n"
      ]
    },
    {
      "cell_type": "markdown",
      "metadata": {},
      "source": [
        "Suhu berpengaruh signifikan terhadap jumlah peminjaman sepeda. Secara umum, seiring meningkatnya suhu, jumlah peminjaman cenderung meningkat. Pada suhu yang lebih rendah, jumlah peminjaman relatif rendah, sementara pada suhu yang lebih hangat, peminjaman mengalami kenaikan yang jelas. Ini menunjukkan bahwa orang lebih cenderung bersepeda saat cuaca lebih hangat.\n"
      ]
    },
    {
      "cell_type": "markdown",
      "metadata": {},
      "source": [
        "Tren penggunaan sepeda sepanjang tahun menunjukkan fluktuasi yang signifikan. Pada **Tahun 0**, penggunaan sepeda meningkat secara bertahap mencapai puncaknya pada bulan 6, kemudian mengalami penurunan. Sementara pada **Tahun 1**, penggunaan sepeda juga meningkat dengan lebih tajam, mencapai puncaknya di bulan 5, dan menunjukkan tren yang lebih tinggi dibandingkan Tahun 0. Secara keseluruhan, penggunaan sepeda cenderung lebih tinggi pada pertengahan tahun dan menurun menjelang akhir tahun.\n"
      ]
    }
  ],
  "metadata": {
    "colab": {
      "provenance": []
    },
    "kernelspec": {
      "display_name": "Python 3",
      "language": "python",
      "name": "python3"
    },
    "language_info": {
      "name": "python",
      "version": "3.8.0 (tags/v3.8.0:fa919fd, Oct 14 2019, 19:21:23) [MSC v.1916 32 bit (Intel)]"
    },
    "orig_nbformat": 4,
    "vscode": {
      "interpreter": {
        "hash": "972b3bf27e332e87b5379f2791f6ef9dfc79c71018c370b0d7423235e20fe4d7"
      }
    }
  },
  "nbformat": 4,
  "nbformat_minor": 0
}
